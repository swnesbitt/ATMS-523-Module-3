{
 "cells": [
  {
   "cell_type": "code",
   "execution_count": 2,
   "id": "1631da8c",
   "metadata": {},
   "outputs": [],
   "source": [
    "import pandas as pd\n",
    "import pandas as pd, numpy as np\n",
    "from pathlib import Path\n",
    "import fsspec"
   ]
  },
  {
   "cell_type": "markdown",
   "id": "6c8a274f",
   "metadata": {},
   "source": [
    "Question 1"
   ]
  },
  {
   "cell_type": "code",
   "execution_count": null,
   "id": "4259d26f",
   "metadata": {},
   "outputs": [],
   "source": [
    "def station_data(station_id):\n",
    "    \n",
    "    # Receives a GHCN Station ID string and returns record daily max,\n",
    "    # average daily max, record daily min and average daily min for \n",
    "    # the period 1991-2020\n",
    "    \n",
    "    begin_date = \"1-Jan-1990\"\n",
    "    end_date = \"31-Dec-2020\"\n",
    "\n",
    "    download_string = \"s3://noaa-ghcn-pds/csv/by_station/\" + str(station_id) + \".csv\"\n",
    "    df = pd.read_csv( \n",
    "                     download_string,\n",
    "                     storage_options={\"anon\": True},  # passed to `s3fs.S3FileSystem`\n",
    "                     dtype={'Q_FLAG': 'object', 'M_FLAG': 'object'},\n",
    "                     parse_dates=['DATE']\n",
    "                     ).set_index('DATE')\n",
    "    \n",
    "    # Filtering for date\n",
    "    df = df[(df.index >= pd.to_datetime(begin_date)) & (df.index <= pd.to_datetime(end_date))]\n",
    "\n",
    "    df_daily_min = df[(df['ELEMENT'] == 'TMIN')]\n",
    "    df_daily_max = df[(df['ELEMENT'] == 'TMAX')]\n",
    "    \n",
    "    min_min = df_daily_min.groupby(df_daily_min.index.dayofyear)['DATA_VALUE'].min()\n",
    "    max_max = df_daily_max.groupby(df_daily_max.index.dayofyear)['DATA_VALUE'].max()\n",
    "    min_average = df_daily_min.groupby(df_daily_min.index.dayofyear)['DATA_VALUE'].mean()\n",
    "    max_average = df_daily_max.groupby(df_daily_max.index.dayofyear)['DATA_VALUE'].mean()\n",
    "\n",
    "    result = pd.DataFrame({\"record_min_temp\": min_min, \n",
    "                           \"average_min_temp\": min_average, \n",
    "                           \"average_max_temp\": max_average,\n",
    "                           \"record_max_temp\": max_max},\n",
    "                           )    \n",
    "\n",
    "    return result\n",
    "\n"
   ]
  },
  {
   "cell_type": "code",
   "execution_count": 67,
   "id": "c8ea9989",
   "metadata": {},
   "outputs": [],
   "source": [
    "Patuxent_River_MD_stid = 'USC00186915'\n",
    "Louisville_KY_stid = 'USC00154958'\n",
    "\n",
    "df = station_data(Louisville_KY_stid)"
   ]
  },
  {
   "cell_type": "code",
   "execution_count": 70,
   "id": "c68259fa",
   "metadata": {},
   "outputs": [
    {
     "data": {
      "text/html": [
       "<div>\n",
       "<style scoped>\n",
       "    .dataframe tbody tr th:only-of-type {\n",
       "        vertical-align: middle;\n",
       "    }\n",
       "\n",
       "    .dataframe tbody tr th {\n",
       "        vertical-align: top;\n",
       "    }\n",
       "\n",
       "    .dataframe thead th {\n",
       "        text-align: right;\n",
       "    }\n",
       "</style>\n",
       "<table border=\"1\" class=\"dataframe\">\n",
       "  <thead>\n",
       "    <tr style=\"text-align: right;\">\n",
       "      <th></th>\n",
       "      <th>record_min_temp</th>\n",
       "      <th>average_min_temp</th>\n",
       "      <th>average_max_temp</th>\n",
       "      <th>record_max_temp</th>\n",
       "    </tr>\n",
       "    <tr>\n",
       "      <th>DATE</th>\n",
       "      <th></th>\n",
       "      <th></th>\n",
       "      <th></th>\n",
       "      <th></th>\n",
       "    </tr>\n",
       "  </thead>\n",
       "  <tbody>\n",
       "    <tr>\n",
       "      <th>1</th>\n",
       "      <td>-16.7</td>\n",
       "      <td>-3.220833</td>\n",
       "      <td>6.783333</td>\n",
       "      <td>16.1</td>\n",
       "    </tr>\n",
       "    <tr>\n",
       "      <th>2</th>\n",
       "      <td>-18.3</td>\n",
       "      <td>-1.341667</td>\n",
       "      <td>6.462500</td>\n",
       "      <td>21.1</td>\n",
       "    </tr>\n",
       "    <tr>\n",
       "      <th>3</th>\n",
       "      <td>-15.0</td>\n",
       "      <td>-1.275000</td>\n",
       "      <td>7.108333</td>\n",
       "      <td>20.6</td>\n",
       "    </tr>\n",
       "    <tr>\n",
       "      <th>4</th>\n",
       "      <td>-15.0</td>\n",
       "      <td>-1.895833</td>\n",
       "      <td>8.212500</td>\n",
       "      <td>19.4</td>\n",
       "    </tr>\n",
       "    <tr>\n",
       "      <th>5</th>\n",
       "      <td>-16.7</td>\n",
       "      <td>-2.704167</td>\n",
       "      <td>6.087500</td>\n",
       "      <td>18.9</td>\n",
       "    </tr>\n",
       "    <tr>\n",
       "      <th>...</th>\n",
       "      <td>...</td>\n",
       "      <td>...</td>\n",
       "      <td>...</td>\n",
       "      <td>...</td>\n",
       "    </tr>\n",
       "    <tr>\n",
       "      <th>362</th>\n",
       "      <td>-12.2</td>\n",
       "      <td>-1.120833</td>\n",
       "      <td>8.358333</td>\n",
       "      <td>20.0</td>\n",
       "    </tr>\n",
       "    <tr>\n",
       "      <th>363</th>\n",
       "      <td>-10.0</td>\n",
       "      <td>-1.733333</td>\n",
       "      <td>7.137500</td>\n",
       "      <td>18.3</td>\n",
       "    </tr>\n",
       "    <tr>\n",
       "      <th>364</th>\n",
       "      <td>-11.7</td>\n",
       "      <td>-1.520833</td>\n",
       "      <td>6.375000</td>\n",
       "      <td>15.6</td>\n",
       "    </tr>\n",
       "    <tr>\n",
       "      <th>365</th>\n",
       "      <td>-13.9</td>\n",
       "      <td>-1.687500</td>\n",
       "      <td>7.016667</td>\n",
       "      <td>20.0</td>\n",
       "    </tr>\n",
       "    <tr>\n",
       "      <th>366</th>\n",
       "      <td>-7.8</td>\n",
       "      <td>-1.283333</td>\n",
       "      <td>5.083333</td>\n",
       "      <td>12.8</td>\n",
       "    </tr>\n",
       "  </tbody>\n",
       "</table>\n",
       "<p>366 rows × 4 columns</p>\n",
       "</div>"
      ],
      "text/plain": [
       "      record_min_temp  average_min_temp  average_max_temp  record_max_temp\n",
       "DATE                                                                      \n",
       "1               -16.7         -3.220833          6.783333             16.1\n",
       "2               -18.3         -1.341667          6.462500             21.1\n",
       "3               -15.0         -1.275000          7.108333             20.6\n",
       "4               -15.0         -1.895833          8.212500             19.4\n",
       "5               -16.7         -2.704167          6.087500             18.9\n",
       "...               ...               ...               ...              ...\n",
       "362             -12.2         -1.120833          8.358333             20.0\n",
       "363             -10.0         -1.733333          7.137500             18.3\n",
       "364             -11.7         -1.520833          6.375000             15.6\n",
       "365             -13.9         -1.687500          7.016667             20.0\n",
       "366              -7.8         -1.283333          5.083333             12.8\n",
       "\n",
       "[366 rows x 4 columns]"
      ]
     },
     "execution_count": 70,
     "metadata": {},
     "output_type": "execute_result"
    }
   ],
   "source": [
    "df"
   ]
  },
  {
   "cell_type": "markdown",
   "id": "5839273c",
   "metadata": {},
   "source": [
    "Question 2"
   ]
  },
  {
   "cell_type": "code",
   "execution_count": null,
   "id": "f8394f71",
   "metadata": {},
   "outputs": [
    {
     "data": {
      "text/plain": [
       "<Axes: xlabel='DATE'>"
      ]
     },
     "execution_count": 73,
     "metadata": {},
     "output_type": "execute_result"
    },
    {
     "data": {
      "image/png": "[encoded data removed]",
      "text/plain": [
       "<Figure size 640x480 with 1 Axes>"
      ]
     },
     "metadata": {},
     "output_type": "display_data"
    }
   ],
   "source": [
    "df['record_min_temp'].plot()"
   ]
  },
  {
   "cell_type": "code",
   "execution_count": null,
   "id": "48f20cb0",
   "metadata": {},
   "outputs": [],
   "source": []
  }
 ],
 "metadata": {
  "kernelspec": {
   "display_name": "ATMS523-env",
   "language": "python",
   "name": "python3"
  },
  "language_info": {
   "codemirror_mode": {
    "name": "ipython",
    "version": 3
   },
   "file_extension": ".py",
   "mimetype": "text/x-python",
   "name": "python",
   "nbconvert_exporter": "python",
   "pygments_lexer": "ipython3",
   "version": "3.13.7"
  }
 },
 "nbformat": 4,
 "nbformat_minor": 5
}
