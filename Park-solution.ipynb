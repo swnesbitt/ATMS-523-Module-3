{
 "cells": [
  {
   "cell_type": "code",
   "execution_count": 9,
   "id": "1631da8c",
   "metadata": {},
   "outputs": [],
   "source": [
    "import pandas as pd\n",
    "import pandas as pd, numpy as np\n",
    "from pathlib import Path\n",
    "import fsspec"
   ]
  },
  {
   "cell_type": "markdown",
   "id": "6c8a274f",
   "metadata": {},
   "source": [
    "Question 1"
   ]
  },
  {
   "cell_type": "code",
   "execution_count": 2,
   "id": "4259d26f",
   "metadata": {},
   "outputs": [],
   "source": [
    "def station_data(station_id):\n",
    "    \n",
    "    # Receives a GHCN Station ID string and returns record daily max,\n",
    "    # average daily max, record daily min and average daily min for \n",
    "    # the period 1991-2020\n",
    "    \n",
    "    begin_date = \"1-Jan-1990\"\n",
    "    end_date = \"31-Dec-2020\"\n",
    "\n",
    "    download_string = \"s3://noaa-ghcn-pds/csv/by_station/\" + str(station_id) + \".csv\"\n",
    "    df = pd.read_csv( \n",
    "                     download_string,\n",
    "                     storage_options={\"anon\": True},  # passed to `s3fs.S3FileSystem`\n",
    "                     dtype={'Q_FLAG': 'object', 'M_FLAG': 'object'},\n",
    "                     parse_dates=['DATE']\n",
    "                     ).set_index('DATE')\n",
    "    \n",
    "    # Filtering for date\n",
    "    df = df[(df.index >= pd.to_datetime(begin_date)) & (df.index <= pd.to_datetime(end_date))]\n",
    "\n",
    "    df_daily_min = df[df['ELEMENT'] == 'TMIN']\n",
    "    df_daily_max = df[df['ELEMENT'] == 'TMAX']\n",
    "    \n",
    "    min_min = df_daily_min['DATA_VALUE'].min()\n",
    "    max_max = df_daily_min['DATA_VALUE'].max()\n",
    "    min_average = df_daily_min['DATA_VALUE'].mean()\n",
    "    max_average = df_daily_max['DATA_VALUE'].mean()\n",
    "\n",
    "    result = pd.DataFrame({\"record_min_temp\": min_min, \n",
    "                           \"average_min_temp\": min_average, \n",
    "                           \"average_max_temp\": max_average,\n",
    "                           \"record_max_temp\": max_max},\n",
    "                           index = [0])    \n",
    "\n",
    "    return result\n",
    "\n"
   ]
  },
  {
   "cell_type": "code",
   "execution_count": 3,
   "id": "c8ea9989",
   "metadata": {},
   "outputs": [
    {
     "name": "stderr",
     "output_type": "stream",
     "text": [
      "/tmp/ipykernel_43363/1332965351.py:11: DtypeWarning: Columns (6) have mixed types. Specify dtype option on import or set low_memory=False.\n",
      "  df = pd.read_csv(\n"
     ]
    }
   ],
   "source": [
    "df = station_data(\"USC00118740\")"
   ]
  },
  {
   "cell_type": "code",
   "execution_count": 4,
   "id": "c68259fa",
   "metadata": {},
   "outputs": [
    {
     "data": {
      "text/html": [
       "<div>\n",
       "<style scoped>\n",
       "    .dataframe tbody tr th:only-of-type {\n",
       "        vertical-align: middle;\n",
       "    }\n",
       "\n",
       "    .dataframe tbody tr th {\n",
       "        vertical-align: top;\n",
       "    }\n",
       "\n",
       "    .dataframe thead th {\n",
       "        text-align: right;\n",
       "    }\n",
       "</style>\n",
       "<table border=\"1\" class=\"dataframe\">\n",
       "  <thead>\n",
       "    <tr style=\"text-align: right;\">\n",
       "      <th></th>\n",
       "      <th>record_min_temp</th>\n",
       "      <th>average_min_temp</th>\n",
       "      <th>average_max_temp</th>\n",
       "      <th>record_max_temp</th>\n",
       "    </tr>\n",
       "  </thead>\n",
       "  <tbody>\n",
       "    <tr>\n",
       "      <th>0</th>\n",
       "      <td>-317</td>\n",
       "      <td>58.815232</td>\n",
       "      <td>168.450098</td>\n",
       "      <td>256</td>\n",
       "    </tr>\n",
       "  </tbody>\n",
       "</table>\n",
       "</div>"
      ],
      "text/plain": [
       "   record_min_temp  average_min_temp  average_max_temp  record_max_temp\n",
       "0             -317         58.815232        168.450098              256"
      ]
     },
     "execution_count": 4,
     "metadata": {},
     "output_type": "execute_result"
    }
   ],
   "source": [
    "df"
   ]
  },
  {
   "cell_type": "markdown",
   "id": "5839273c",
   "metadata": {},
   "source": [
    "Question 2"
   ]
  },
  {
   "cell_type": "code",
   "execution_count": 5,
   "id": "b8edb8a6",
   "metadata": {},
   "outputs": [],
   "source": [
    "# Fill Between\n",
    "\n",
    "# 1. Download city data\n",
    "\n",
    "# 2. Groupby day of year and find max high, and mix low\n",
    "\n",
    "# 3. Groupby day of year and take mean high and mean low\n",
    "\n",
    "# 4. Pick a year and create a time series of high temps and low temps\n",
    "\n",
    "# 5. Plot"
   ]
  },
  {
   "cell_type": "code",
   "execution_count": 10,
   "id": "8e6ecb22",
   "metadata": {},
   "outputs": [
    {
     "name": "stdout",
     "output_type": "stream",
     "text": [
      "Output: /home/weatherdev/ATMS Masters/ATMS523/3Module/Assignment/data/ghcn_il_top4_daily.parquet\n"
     ]
    }
   ],
   "source": [
    "S3_STATIONS_TXT   = \"s3://noaa-ghcn-pds/ghcnd-stations.txt\"\n",
    "S3_INVENTORY_TXT  = \"s3://noaa-ghcn-pds/ghcnd-inventory.txt\"\n",
    "S3_BY_STATION     = \"s3://noaa-ghcn-pds/csv/by_station/{id}.csv\"\n",
    "STOR = {\"anon\": True}\n",
    "\n",
    "OUTDIR = Path('../data'); OUTDIR.mkdir(parents=True, exist_ok=True)\n",
    "OUT_PARQUET = OUTDIR / 'ghcn_il_top4_daily.parquet'\n",
    "OUT_CSV = OUTDIR / 'ghcn_il_top4_daily.csv'\n",
    "print('Output:', OUT_PARQUET.resolve())"
   ]
  },
  {
   "cell_type": "code",
   "execution_count": 19,
   "id": "80ee9d2e",
   "metadata": {},
   "outputs": [],
   "source": [
    "stn_ids = pd.read_fwf('http://noaa-ghcn-pds.s3.amazonaws.com/ghcnd-stations.txt', header=None, infer_nrows=1000)\n",
    "stn_ids.columns = ['ID','LAT','LON','ELEV','STATE','NAME','GSN','WBAN']\n",
    "\n",
    "periods = pd.read_fwf('http://noaa-ghcn-pds.s3.amazonaws.com/ghcnd-inventory.txt', header=None, infer_nrows=1000)\n",
    "periods.columns = ['ID','LAT','LON','ELEM','TiMIN','TiMAX']\n",
    "\n",
    "merged_stns = pd.merge(stn_ids,periods,how='left',left_on='ID',right_on='ID')"
   ]
  },
  {
   "cell_type": "code",
   "execution_count": 24,
   "id": "57880ef2",
   "metadata": {},
   "outputs": [
    {
     "data": {
      "text/html": [
       "<div>\n",
       "<style scoped>\n",
       "    .dataframe tbody tr th:only-of-type {\n",
       "        vertical-align: middle;\n",
       "    }\n",
       "\n",
       "    .dataframe tbody tr th {\n",
       "        vertical-align: top;\n",
       "    }\n",
       "\n",
       "    .dataframe thead th {\n",
       "        text-align: right;\n",
       "    }\n",
       "</style>\n",
       "<table border=\"1\" class=\"dataframe\">\n",
       "  <thead>\n",
       "    <tr style=\"text-align: right;\">\n",
       "      <th></th>\n",
       "      <th>ID</th>\n",
       "      <th>LAT_x</th>\n",
       "      <th>LON_x</th>\n",
       "      <th>ELEV</th>\n",
       "      <th>STATE</th>\n",
       "      <th>NAME</th>\n",
       "      <th>GSN</th>\n",
       "      <th>WBAN</th>\n",
       "      <th>LAT_y</th>\n",
       "      <th>LON_y</th>\n",
       "      <th>ELEM</th>\n",
       "      <th>TiMIN</th>\n",
       "      <th>TiMAX</th>\n",
       "    </tr>\n",
       "  </thead>\n",
       "  <tbody>\n",
       "    <tr>\n",
       "      <th>0</th>\n",
       "      <td>ACW00011604</td>\n",
       "      <td>17.1167</td>\n",
       "      <td>-61.7833</td>\n",
       "      <td>10.1</td>\n",
       "      <td>NaN</td>\n",
       "      <td>ST JOHNS COOLIDGE FLD</td>\n",
       "      <td>NaN</td>\n",
       "      <td>NaN</td>\n",
       "      <td>17.1167</td>\n",
       "      <td>-61.7833</td>\n",
       "      <td>TMAX</td>\n",
       "      <td>1949.0</td>\n",
       "      <td>1949.0</td>\n",
       "    </tr>\n",
       "    <tr>\n",
       "      <th>1</th>\n",
       "      <td>ACW00011604</td>\n",
       "      <td>17.1167</td>\n",
       "      <td>-61.7833</td>\n",
       "      <td>10.1</td>\n",
       "      <td>NaN</td>\n",
       "      <td>ST JOHNS COOLIDGE FLD</td>\n",
       "      <td>NaN</td>\n",
       "      <td>NaN</td>\n",
       "      <td>17.1167</td>\n",
       "      <td>-61.7833</td>\n",
       "      <td>TMIN</td>\n",
       "      <td>1949.0</td>\n",
       "      <td>1949.0</td>\n",
       "    </tr>\n",
       "    <tr>\n",
       "      <th>2</th>\n",
       "      <td>ACW00011604</td>\n",
       "      <td>17.1167</td>\n",
       "      <td>-61.7833</td>\n",
       "      <td>10.1</td>\n",
       "      <td>NaN</td>\n",
       "      <td>ST JOHNS COOLIDGE FLD</td>\n",
       "      <td>NaN</td>\n",
       "      <td>NaN</td>\n",
       "      <td>17.1167</td>\n",
       "      <td>-61.7833</td>\n",
       "      <td>PRCP</td>\n",
       "      <td>1949.0</td>\n",
       "      <td>1949.0</td>\n",
       "    </tr>\n",
       "    <tr>\n",
       "      <th>3</th>\n",
       "      <td>ACW00011604</td>\n",
       "      <td>17.1167</td>\n",
       "      <td>-61.7833</td>\n",
       "      <td>10.1</td>\n",
       "      <td>NaN</td>\n",
       "      <td>ST JOHNS COOLIDGE FLD</td>\n",
       "      <td>NaN</td>\n",
       "      <td>NaN</td>\n",
       "      <td>17.1167</td>\n",
       "      <td>-61.7833</td>\n",
       "      <td>SNOW</td>\n",
       "      <td>1949.0</td>\n",
       "      <td>1949.0</td>\n",
       "    </tr>\n",
       "    <tr>\n",
       "      <th>4</th>\n",
       "      <td>ACW00011604</td>\n",
       "      <td>17.1167</td>\n",
       "      <td>-61.7833</td>\n",
       "      <td>10.1</td>\n",
       "      <td>NaN</td>\n",
       "      <td>ST JOHNS COOLIDGE FLD</td>\n",
       "      <td>NaN</td>\n",
       "      <td>NaN</td>\n",
       "      <td>17.1167</td>\n",
       "      <td>-61.7833</td>\n",
       "      <td>SNWD</td>\n",
       "      <td>1949.0</td>\n",
       "      <td>1949.0</td>\n",
       "    </tr>\n",
       "  </tbody>\n",
       "</table>\n",
       "</div>"
      ],
      "text/plain": [
       "            ID    LAT_x    LON_x  ELEV STATE                   NAME  GSN  \\\n",
       "0  ACW00011604  17.1167 -61.7833  10.1   NaN  ST JOHNS COOLIDGE FLD  NaN   \n",
       "1  ACW00011604  17.1167 -61.7833  10.1   NaN  ST JOHNS COOLIDGE FLD  NaN   \n",
       "2  ACW00011604  17.1167 -61.7833  10.1   NaN  ST JOHNS COOLIDGE FLD  NaN   \n",
       "3  ACW00011604  17.1167 -61.7833  10.1   NaN  ST JOHNS COOLIDGE FLD  NaN   \n",
       "4  ACW00011604  17.1167 -61.7833  10.1   NaN  ST JOHNS COOLIDGE FLD  NaN   \n",
       "\n",
       "   WBAN    LAT_y    LON_y  ELEM   TiMIN   TiMAX  \n",
       "0   NaN  17.1167 -61.7833  TMAX  1949.0  1949.0  \n",
       "1   NaN  17.1167 -61.7833  TMIN  1949.0  1949.0  \n",
       "2   NaN  17.1167 -61.7833  PRCP  1949.0  1949.0  \n",
       "3   NaN  17.1167 -61.7833  SNOW  1949.0  1949.0  \n",
       "4   NaN  17.1167 -61.7833  SNWD  1949.0  1949.0  "
      ]
     },
     "execution_count": 24,
     "metadata": {},
     "output_type": "execute_result"
    }
   ],
   "source": [
    "merged_stns.head()"
   ]
  },
  {
   "cell_type": "code",
   "execution_count": 20,
   "id": "a8b01615",
   "metadata": {},
   "outputs": [
    {
     "data": {
      "text/plain": [
       "array([nan, 'AS', 'BH', 'BC', 'YT', 'NT', 'NU', 'AB', 'SK', 'MB', 'ON',\n",
       "       'QC', 'NB', 'NS', 'PE', 'NL', 'MP', 'FM', 'GU', 'UM', 'PW', 'MH',\n",
       "       'PR', 'SA', 'SD', 'CO', 'NE', 'AK', 'AL', 'AR', 'AZ', 'CA', 'TN',\n",
       "       'CT', 'DC', 'DE', 'FL', 'GA', 'HI', 'IA', 'ID', 'IL', 'IN', 'KS',\n",
       "       'KY', 'LA', 'MA', 'MD', 'ME', 'MI', 'MN', 'MO', 'MS', 'MT', 'NC',\n",
       "       'ND', 'NH', 'NJ', 'NM', 'NV', 'NY', 'OH', 'OK', 'OR', 'PA', 'RI',\n",
       "       'SC', 'TX', 'UT', 'VA', 'VT', 'WA', 'WI', 'WV', 'WY', 'VI'],\n",
       "      dtype=object)"
      ]
     },
     "execution_count": 20,
     "metadata": {},
     "output_type": "execute_result"
    }
   ],
   "source": [
    "merged_stns['STATE'].unique()"
   ]
  },
  {
   "cell_type": "code",
   "execution_count": 37,
   "id": "2460d67f",
   "metadata": {},
   "outputs": [],
   "source": [
    "filtered_stns = merged_stns[(merged_stns['STATE'] == 'VT') & (merged_stns['TiMIN'] < 1991) & (merged_stns['TiMAX'] > 2019)]"
   ]
  },
  {
   "cell_type": "code",
   "execution_count": 38,
   "id": "293891ab",
   "metadata": {},
   "outputs": [
    {
     "data": {
      "text/html": [
       "<div>\n",
       "<style scoped>\n",
       "    .dataframe tbody tr th:only-of-type {\n",
       "        vertical-align: middle;\n",
       "    }\n",
       "\n",
       "    .dataframe tbody tr th {\n",
       "        vertical-align: top;\n",
       "    }\n",
       "\n",
       "    .dataframe thead th {\n",
       "        text-align: right;\n",
       "    }\n",
       "</style>\n",
       "<table border=\"1\" class=\"dataframe\">\n",
       "  <thead>\n",
       "    <tr style=\"text-align: right;\">\n",
       "      <th></th>\n",
       "      <th>ID</th>\n",
       "      <th>LAT_x</th>\n",
       "      <th>LON_x</th>\n",
       "      <th>ELEV</th>\n",
       "      <th>STATE</th>\n",
       "      <th>NAME</th>\n",
       "      <th>GSN</th>\n",
       "      <th>WBAN</th>\n",
       "      <th>LAT_y</th>\n",
       "      <th>LON_y</th>\n",
       "      <th>ELEM</th>\n",
       "      <th>TiMIN</th>\n",
       "      <th>TiMAX</th>\n",
       "    </tr>\n",
       "  </thead>\n",
       "  <tbody>\n",
       "    <tr>\n",
       "      <th>667628</th>\n",
       "      <td>USC00436893</td>\n",
       "      <td>43.8578</td>\n",
       "      <td>-72.8045</td>\n",
       "      <td>253.0</td>\n",
       "      <td>VT</td>\n",
       "      <td>ROCHESTER</td>\n",
       "      <td>NaN</td>\n",
       "      <td>NaN</td>\n",
       "      <td>43.8578</td>\n",
       "      <td>-72.8045</td>\n",
       "      <td>TMAX</td>\n",
       "      <td>1964.0</td>\n",
       "      <td>2020.0</td>\n",
       "    </tr>\n",
       "    <tr>\n",
       "      <th>667629</th>\n",
       "      <td>USC00436893</td>\n",
       "      <td>43.8578</td>\n",
       "      <td>-72.8045</td>\n",
       "      <td>253.0</td>\n",
       "      <td>VT</td>\n",
       "      <td>ROCHESTER</td>\n",
       "      <td>NaN</td>\n",
       "      <td>NaN</td>\n",
       "      <td>43.8578</td>\n",
       "      <td>-72.8045</td>\n",
       "      <td>TMIN</td>\n",
       "      <td>1964.0</td>\n",
       "      <td>2020.0</td>\n",
       "    </tr>\n",
       "    <tr>\n",
       "      <th>667630</th>\n",
       "      <td>USC00436893</td>\n",
       "      <td>43.8578</td>\n",
       "      <td>-72.8045</td>\n",
       "      <td>253.0</td>\n",
       "      <td>VT</td>\n",
       "      <td>ROCHESTER</td>\n",
       "      <td>NaN</td>\n",
       "      <td>NaN</td>\n",
       "      <td>43.8578</td>\n",
       "      <td>-72.8045</td>\n",
       "      <td>TOBS</td>\n",
       "      <td>1964.0</td>\n",
       "      <td>2020.0</td>\n",
       "    </tr>\n",
       "    <tr>\n",
       "      <th>667631</th>\n",
       "      <td>USC00436893</td>\n",
       "      <td>43.8578</td>\n",
       "      <td>-72.8045</td>\n",
       "      <td>253.0</td>\n",
       "      <td>VT</td>\n",
       "      <td>ROCHESTER</td>\n",
       "      <td>NaN</td>\n",
       "      <td>NaN</td>\n",
       "      <td>43.8578</td>\n",
       "      <td>-72.8045</td>\n",
       "      <td>PRCP</td>\n",
       "      <td>1928.0</td>\n",
       "      <td>2020.0</td>\n",
       "    </tr>\n",
       "    <tr>\n",
       "      <th>667632</th>\n",
       "      <td>USC00436893</td>\n",
       "      <td>43.8578</td>\n",
       "      <td>-72.8045</td>\n",
       "      <td>253.0</td>\n",
       "      <td>VT</td>\n",
       "      <td>ROCHESTER</td>\n",
       "      <td>NaN</td>\n",
       "      <td>NaN</td>\n",
       "      <td>43.8578</td>\n",
       "      <td>-72.8045</td>\n",
       "      <td>SNOW</td>\n",
       "      <td>1928.0</td>\n",
       "      <td>2020.0</td>\n",
       "    </tr>\n",
       "    <tr>\n",
       "      <th>667633</th>\n",
       "      <td>USC00436893</td>\n",
       "      <td>43.8578</td>\n",
       "      <td>-72.8045</td>\n",
       "      <td>253.0</td>\n",
       "      <td>VT</td>\n",
       "      <td>ROCHESTER</td>\n",
       "      <td>NaN</td>\n",
       "      <td>NaN</td>\n",
       "      <td>43.8578</td>\n",
       "      <td>-72.8045</td>\n",
       "      <td>SNWD</td>\n",
       "      <td>1928.0</td>\n",
       "      <td>2020.0</td>\n",
       "    </tr>\n",
       "  </tbody>\n",
       "</table>\n",
       "</div>"
      ],
      "text/plain": [
       "                 ID    LAT_x    LON_x   ELEV STATE       NAME  GSN  WBAN  \\\n",
       "667628  USC00436893  43.8578 -72.8045  253.0    VT  ROCHESTER  NaN   NaN   \n",
       "667629  USC00436893  43.8578 -72.8045  253.0    VT  ROCHESTER  NaN   NaN   \n",
       "667630  USC00436893  43.8578 -72.8045  253.0    VT  ROCHESTER  NaN   NaN   \n",
       "667631  USC00436893  43.8578 -72.8045  253.0    VT  ROCHESTER  NaN   NaN   \n",
       "667632  USC00436893  43.8578 -72.8045  253.0    VT  ROCHESTER  NaN   NaN   \n",
       "667633  USC00436893  43.8578 -72.8045  253.0    VT  ROCHESTER  NaN   NaN   \n",
       "\n",
       "          LAT_y    LON_y  ELEM   TiMIN   TiMAX  \n",
       "667628  43.8578 -72.8045  TMAX  1964.0  2020.0  \n",
       "667629  43.8578 -72.8045  TMIN  1964.0  2020.0  \n",
       "667630  43.8578 -72.8045  TOBS  1964.0  2020.0  \n",
       "667631  43.8578 -72.8045  PRCP  1928.0  2020.0  \n",
       "667632  43.8578 -72.8045  SNOW  1928.0  2020.0  \n",
       "667633  43.8578 -72.8045  SNWD  1928.0  2020.0  "
      ]
     },
     "execution_count": 38,
     "metadata": {},
     "output_type": "execute_result"
    }
   ],
   "source": [
    "filtered_stns[filtered_stns['NAME'] == 'ROCHESTER']"
   ]
  },
  {
   "cell_type": "code",
   "execution_count": 36,
   "id": "43a4018d",
   "metadata": {},
   "outputs": [
    {
     "data": {
      "text/plain": [
       "array(['CHITTENDEN', 'CORINTH', 'CORNWALL', 'GILMAN', 'ISLAND POND',\n",
       "       'MORRISVILLE-STOWE STATE AP', 'MT MANSFIELD', 'NEWPORT', 'PERU',\n",
       "       'ROCHESTER', 'RUTLAND', 'SAINT JOHNSBURY', 'S HERO', 'S LINCOLN',\n",
       "       'UNION VILLAGE DAM', 'W TOPSHAM', 'WOODSTOCK',\n",
       "       'BURLINGTON INTL AP', 'MONTPELIER AP'], dtype=object)"
      ]
     },
     "execution_count": 36,
     "metadata": {},
     "output_type": "execute_result"
    }
   ],
   "source": [
    "filtered_stns"
   ]
  },
  {
   "cell_type": "code",
   "execution_count": null,
   "id": "f8394f71",
   "metadata": {},
   "outputs": [],
   "source": []
  }
 ],
 "metadata": {
  "kernelspec": {
   "display_name": "xarray-climate",
   "language": "python",
   "name": "python3"
  },
  "language_info": {
   "codemirror_mode": {
    "name": "ipython",
    "version": 3
   },
   "file_extension": ".py",
   "mimetype": "text/x-python",
   "name": "python",
   "nbconvert_exporter": "python",
   "pygments_lexer": "ipython3",
   "version": "3.13.7"
  }
 },
 "nbformat": 4,
 "nbformat_minor": 5
}
