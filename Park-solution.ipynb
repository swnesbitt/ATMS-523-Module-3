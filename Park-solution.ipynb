{
 "cells": [
  {
   "cell_type": "code",
   "execution_count": null,
   "id": "1631da8c",
   "metadata": {},
   "outputs": [],
   "source": [
    "import pandas as pd"
   ]
  },
  {
   "cell_type": "code",
   "execution_count": 55,
   "id": "4259d26f",
   "metadata": {},
   "outputs": [],
   "source": [
    "def station_data(station_id):\n",
    "    \n",
    "    # Receives a GHCN Station ID string and returns record daily max,\n",
    "    # average daily max, record daily min and average daily min for \n",
    "    # the period 1991-2020\n",
    "    \n",
    "    begin_date = \"1-Jan-1990\"\n",
    "    end_date = \"31-Dec-2020\"\n",
    "\n",
    "    download_string = \"s3://noaa-ghcn-pds/csv/by_station/\" + str(station_id) + \".csv\"\n",
    "    df = pd.read_csv( \n",
    "                     download_string,\n",
    "                     storage_options={\"anon\": True},  # passed to `s3fs.S3FileSystem`\n",
    "                     dtype={'Q_FLAG': 'object', 'M_FLAG': 'object'},\n",
    "                     parse_dates=['DATE']\n",
    "                     ).set_index('DATE')\n",
    "    \n",
    "    # Filtering for date\n",
    "    df = df[(df.index >= pd.to_datetime(begin_date)) & (df.index <= pd.to_datetime(end_date))]\n",
    "\n",
    "    df_daily_min = df[df['ELEMENT'] == 'TMIN']\n",
    "    df_daily_max = df[df['ELEMENT'] == 'TMAX']\n",
    "    \n",
    "    min_min = df_daily_min['DATA_VALUE'].min()\n",
    "    max_max = df_daily_min['DATA_VALUE'].max()\n",
    "    min_average = df_daily_min['DATA_VALUE'].mean()\n",
    "    max_average = df_daily_max['DATA_VALUE'].mean()\n",
    "\n",
    "    result = pd.DataFrame({\"record_min_temp\": min_min, \n",
    "                           \"average_min_temp\": min_average, \n",
    "                           \"average_max_temp\": max_average,\n",
    "                           \"record_max_temp\": max_max},\n",
    "                           index = [0])    \n",
    "\n",
    "    return result\n",
    "\n"
   ]
  },
  {
   "cell_type": "code",
   "execution_count": 56,
   "id": "c8ea9989",
   "metadata": {},
   "outputs": [
    {
     "name": "stderr",
     "output_type": "stream",
     "text": [
      "C:\\Users\\12ian\\AppData\\Local\\Temp\\ipykernel_36168\\1332965351.py:11: DtypeWarning: Columns (6) have mixed types. Specify dtype option on import or set low_memory=False.\n",
      "  df = pd.read_csv(\n"
     ]
    }
   ],
   "source": [
    "df = station_data(\"USC00118740\")"
   ]
  },
  {
   "cell_type": "code",
   "execution_count": 57,
   "id": "c68259fa",
   "metadata": {},
   "outputs": [
    {
     "data": {
      "text/html": [
       "<div>\n",
       "<style scoped>\n",
       "    .dataframe tbody tr th:only-of-type {\n",
       "        vertical-align: middle;\n",
       "    }\n",
       "\n",
       "    .dataframe tbody tr th {\n",
       "        vertical-align: top;\n",
       "    }\n",
       "\n",
       "    .dataframe thead th {\n",
       "        text-align: right;\n",
       "    }\n",
       "</style>\n",
       "<table border=\"1\" class=\"dataframe\">\n",
       "  <thead>\n",
       "    <tr style=\"text-align: right;\">\n",
       "      <th></th>\n",
       "      <th>record_min_temp</th>\n",
       "      <th>average_min_temp</th>\n",
       "      <th>average_max_temp</th>\n",
       "      <th>record_max_temp</th>\n",
       "    </tr>\n",
       "  </thead>\n",
       "  <tbody>\n",
       "    <tr>\n",
       "      <th>0</th>\n",
       "      <td>-317</td>\n",
       "      <td>58.815232</td>\n",
       "      <td>168.450098</td>\n",
       "      <td>256</td>\n",
       "    </tr>\n",
       "  </tbody>\n",
       "</table>\n",
       "</div>"
      ],
      "text/plain": [
       "   record_min_temp  average_min_temp  average_max_temp  record_max_temp\n",
       "0             -317         58.815232        168.450098              256"
      ]
     },
     "execution_count": 57,
     "metadata": {},
     "output_type": "execute_result"
    }
   ],
   "source": [
    "df"
   ]
  },
  {
   "cell_type": "code",
   "execution_count": null,
   "id": "5839273c",
   "metadata": {},
   "outputs": [],
   "source": []
  }
 ],
 "metadata": {
  "kernelspec": {
   "display_name": "ATMS523-env",
   "language": "python",
   "name": "python3"
  },
  "language_info": {
   "codemirror_mode": {
    "name": "ipython",
    "version": 3
   },
   "file_extension": ".py",
   "mimetype": "text/x-python",
   "name": "python",
   "nbconvert_exporter": "python",
   "pygments_lexer": "ipython3",
   "version": "3.13.7"
  }
 },
 "nbformat": 4,
 "nbformat_minor": 5
}
